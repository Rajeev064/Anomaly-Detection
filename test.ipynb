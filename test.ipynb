{
 "cells": [
  {
   "cell_type": "code",
   "execution_count": 6,
   "id": "ad0785cb",
   "metadata": {},
   "outputs": [
    {
     "name": "stderr",
     "output_type": "stream",
     "text": [
      "/Users/rohan/opt/miniconda3/lib/python3.8/site-packages/numpy/lib/nanfunctions.py:1111: RuntimeWarning: Mean of empty slice\n",
      "  return np.nanmean(a, axis, out=out, keepdims=keepdims)\n",
      "/Users/rohan/opt/miniconda3/lib/python3.8/site-packages/numpy/lib/nanfunctions.py:1111: RuntimeWarning: Mean of empty slice\n",
      "  return np.nanmean(a, axis, out=out, keepdims=keepdims)\n",
      "/Users/rohan/opt/miniconda3/lib/python3.8/site-packages/numpy/lib/nanfunctions.py:1111: RuntimeWarning: Mean of empty slice\n",
      "  return np.nanmean(a, axis, out=out, keepdims=keepdims)\n",
      "/Users/rohan/opt/miniconda3/lib/python3.8/site-packages/numpy/lib/nanfunctions.py:1111: RuntimeWarning: Mean of empty slice\n",
      "  return np.nanmean(a, axis, out=out, keepdims=keepdims)\n",
      "/Users/rohan/opt/miniconda3/lib/python3.8/site-packages/numpy/lib/nanfunctions.py:1111: RuntimeWarning: Mean of empty slice\n",
      "  return np.nanmean(a, axis, out=out, keepdims=keepdims)\n",
      "/Users/rohan/opt/miniconda3/lib/python3.8/site-packages/numpy/lib/nanfunctions.py:1111: RuntimeWarning: Mean of empty slice\n",
      "  return np.nanmean(a, axis, out=out, keepdims=keepdims)\n",
      "/Users/rohan/opt/miniconda3/lib/python3.8/site-packages/numpy/lib/nanfunctions.py:1111: RuntimeWarning: Mean of empty slice\n",
      "  return np.nanmean(a, axis, out=out, keepdims=keepdims)\n"
     ]
    },
    {
     "name": "stdout",
     "output_type": "stream",
     "text": [
      "{'likely_brand': 'kellog india pvt. ltd', 'brand_score': 1, 'likely_product': 'corn flakes', 'product_score': 1, 'net_weight_score': 0.16545182790395008, 'likely_net_weight': 70.0, 'net_weight_range': {'std': 333.48092815972535, 'mean': 362.5552083333334, 'median': 300.0, 'min': 12.0, 'max': 2000.0}, 'mrp_score': 0.09524439447053379, 'likely_mrp': 20.0, 'mrp_range': {'std': 138.52265593086335, 'mean': 162.48958333333334, 'median': 152.5, 'min': 5.0, 'max': 699.0}, 'weight_ratio_score': 0.658434916837522, 'gtin_score': 1, 'overall_score': 0.9146087292093805}\n",
      "\n",
      " ### \n",
      "\n",
      "{'likely_brand': 'kellog india pvt. ltd', 'brand_score': 1, 'likely_product': 'corn flakes', 'product_score': 1, 'net_weight_score': 0.793027726849967, 'likely_net_weight': 290.0, 'net_weight_range': {'std': 333.48092815972535, 'mean': 362.5552083333334, 'median': 300.0, 'min': 12.0, 'max': 2000.0}, 'mrp_score': 0.5968648720153449, 'likely_mrp': 99.0, 'mrp_range': {'std': 138.52265593086335, 'mean': 162.48958333333334, 'median': 152.5, 'min': 5.0, 'max': 699.0}, 'weight_ratio_score': 0.7867162023593149, 'gtin_score': 1, 'overall_score': 0.9466790505898287}\n"
     ]
    },
    {
     "name": "stderr",
     "output_type": "stream",
     "text": [
      "/Users/rohan/opt/miniconda3/lib/python3.8/site-packages/numpy/lib/nanfunctions.py:1111: RuntimeWarning: Mean of empty slice\n",
      "  return np.nanmean(a, axis, out=out, keepdims=keepdims)\n",
      "/Users/rohan/opt/miniconda3/lib/python3.8/site-packages/numpy/lib/nanfunctions.py:1111: RuntimeWarning: Mean of empty slice\n",
      "  return np.nanmean(a, axis, out=out, keepdims=keepdims)\n",
      "/Users/rohan/opt/miniconda3/lib/python3.8/site-packages/numpy/lib/nanfunctions.py:1111: RuntimeWarning: Mean of empty slice\n",
      "  return np.nanmean(a, axis, out=out, keepdims=keepdims)\n"
     ]
    }
   ],
   "source": [
    "from scorer import Scorer\n",
    "import pandas as pd\n",
    "\n",
    "df = pd.read_csv(\"./data/train-modified.csv\", dtype={\"Fssai Lic. No.\": str})\n",
    "\n",
    "scorer = Scorer()\n",
    "scorer.train(df)\n",
    "\n",
    "print(scorer(df.iloc[0]))\n",
    "\n",
    "print(\"\\n ### \\n\")\n",
    "\n",
    "print(\n",
    "    scorer({\n",
    "        \"Manufacturer Name\": \" KELLOG INDIA PVT. LTD\",\n",
    "        \"Product Name\": \"Corn Flakes\",\n",
    "        \"Product GTIN\": \"8901499009661\",\n",
    "        \"MRP\": 99,\n",
    "        \"Net Weight\": 290,\n",
    "        \"Fssai Lic. No.\": \"10013022002031\",\n",
    "        \"Consumer Care Email\": \"kconsumer@kellogg.com\"\n",
    "    })\n",
    ")\n"
   ]
  }
 ],
 "metadata": {
  "kernelspec": {
   "display_name": "Python 3 (ipykernel)",
   "language": "python",
   "name": "python3"
  },
  "language_info": {
   "codemirror_mode": {
    "name": "ipython",
    "version": 3
   },
   "file_extension": ".py",
   "mimetype": "text/x-python",
   "name": "python",
   "nbconvert_exporter": "python",
   "pygments_lexer": "ipython3",
   "version": "3.8.3"
  }
 },
 "nbformat": 4,
 "nbformat_minor": 5
}
