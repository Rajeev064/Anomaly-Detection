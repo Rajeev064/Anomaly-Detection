{
 "cells": [
  {
   "cell_type": "code",
   "execution_count": 1,
   "id": "7eefd0c4",
   "metadata": {},
   "outputs": [],
   "source": [
    "def edit_distance(str1, str2):\n",
    "    n, m = len(str1), len(str2)\n",
    "    dp = [\n",
    "        [\n",
    "            j if i == 0 else i if j == 0 else 0 for j in range(m+1)\n",
    "        ] for i in range(n+1)\n",
    "    ]\n",
    "    \n",
    "    for i in range(1, n+1):\n",
    "        for j in range(1, m+1):\n",
    "            if str1[i - 1] == str2[j - 1]:\n",
    "                dp[i][j] = dp[i-1][j-1]\n",
    "            else:\n",
    "                dp[i][j] = min(\n",
    "                    dp[i-1][j],\n",
    "                    dp[i][j-1],\n",
    "                    dp[i-1][j-1],\n",
    "                ) + 1\n",
    "    \n",
    "    return dp[n][m]"
   ]
  },
  {
   "cell_type": "code",
   "execution_count": 17,
   "id": "a15d0021",
   "metadata": {},
   "outputs": [],
   "source": [
    "def pre_process(s):\n",
    "    if type(s) != str or len(s) == 0:\n",
    "        return \"\"\n",
    "\n",
    "    s = s.lower()\n",
    "    s = [part.strip() for part in s.split(\" \") if len(part.strip()) > 0]\n",
    "    return ' '.join(s)"
   ]
  },
  {
   "cell_type": "code",
   "execution_count": 15,
   "id": "2d9ca004",
   "metadata": {},
   "outputs": [],
   "source": [
    "def similarity(str1, str2):\n",
    "    str1, str2 = pre_process(str1), pre_process(str2)\n",
    "    div = max(len(str1), len(str2))\n",
    "    return 1 - edit_distance(str1, str2) / div"
   ]
  },
  {
   "cell_type": "code",
   "execution_count": 18,
   "id": "6e1e2767",
   "metadata": {},
   "outputs": [
    {
     "name": "stdout",
     "output_type": "stream",
     "text": [
      "Similarity 0.8571428571428572\n"
     ]
    }
   ],
   "source": [
    "str1 = \"xyz     abccc  dd      \"\n",
    "str2 = \"xyz         abcccc    ddf\"\n",
    "\n",
    "print(f'Similarity {similarity(str1, str2)}')"
   ]
  }
 ],
 "metadata": {
  "kernelspec": {
   "display_name": "Python 3 (ipykernel)",
   "language": "python",
   "name": "python3"
  },
  "language_info": {
   "codemirror_mode": {
    "name": "ipython",
    "version": 3
   },
   "file_extension": ".py",
   "mimetype": "text/x-python",
   "name": "python",
   "nbconvert_exporter": "python",
   "pygments_lexer": "ipython3",
   "version": "3.8.9"
  }
 },
 "nbformat": 4,
 "nbformat_minor": 5
}
