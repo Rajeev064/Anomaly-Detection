{
 "cells": [
  {
   "cell_type": "code",
   "execution_count": 12,
   "id": "1c9c6686",
   "metadata": {},
   "outputs": [
    {
     "data": {
      "text/plain": [
       "Index(['Manufacturer Name', 'Category', 'Sub Category', 'Brand Name',\n",
       "       'Product GTIN', 'Product Name', 'Product Description',\n",
       "       'Derived Description', 'Primary GTIN', 'Packaging Type',\n",
       "       'UOM (Net Content)', 'Net Weight', 'Gross Weight', 'Net Content',\n",
       "       'Valid from', 'Valid till', 'Target Market', 'MRP', 'Location',\n",
       "       'Product Content', 'Product URL', 'Consumer Care Contact Person',\n",
       "       'Consumer Care Phone Number', 'Consumer Care Email',\n",
       "       'Consumer Care Address', 'HS_Code', 'IGST', 'SGST', 'CGST', 'Front',\n",
       "       'Back', 'image3', 'image4', 'image5', 'image6', 'Artwork Front',\n",
       "       'Artwork Back', 'Storage Condition', 'Fssai Lic. No.', 'Food Type',\n",
       "       'Value', 'Unit', 'Based On', 'Ingredients Image',\n",
       "       'Nutritional Content'],\n",
       "      dtype='object')"
      ]
     },
     "execution_count": 12,
     "metadata": {},
     "output_type": "execute_result"
    }
   ],
   "source": [
    "import pandas as pd\n",
    "df = pd.read_csv(\"./sample.csv\")\n",
    "df.columns"
   ]
  },
  {
   "cell_type": "code",
   "execution_count": 41,
   "id": "7eefd0c4",
   "metadata": {},
   "outputs": [
    {
     "name": "stderr",
     "output_type": "stream",
     "text": [
      "/Users/rohan/projects/tab-ocr/venv/lib/python3.8/site-packages/numpy/lib/nanfunctions.py:1216: RuntimeWarning: Mean of empty slice\n",
      "  return np.nanmean(a, axis, out=out, keepdims=keepdims)\n",
      "/Users/rohan/projects/tab-ocr/venv/lib/python3.8/site-packages/numpy/lib/nanfunctions.py:1216: RuntimeWarning: Mean of empty slice\n",
      "  return np.nanmean(a, axis, out=out, keepdims=keepdims)\n",
      "/Users/rohan/projects/tab-ocr/venv/lib/python3.8/site-packages/numpy/lib/nanfunctions.py:1216: RuntimeWarning: Mean of empty slice\n",
      "  return np.nanmean(a, axis, out=out, keepdims=keepdims)\n",
      "/Users/rohan/projects/tab-ocr/venv/lib/python3.8/site-packages/numpy/lib/nanfunctions.py:1216: RuntimeWarning: Mean of empty slice\n",
      "  return np.nanmean(a, axis, out=out, keepdims=keepdims)\n",
      "/Users/rohan/projects/tab-ocr/venv/lib/python3.8/site-packages/numpy/lib/nanfunctions.py:1216: RuntimeWarning: Mean of empty slice\n",
      "  return np.nanmean(a, axis, out=out, keepdims=keepdims)\n",
      "/Users/rohan/projects/tab-ocr/venv/lib/python3.8/site-packages/numpy/lib/nanfunctions.py:1216: RuntimeWarning: Mean of empty slice\n",
      "  return np.nanmean(a, axis, out=out, keepdims=keepdims)\n",
      "/Users/rohan/projects/tab-ocr/venv/lib/python3.8/site-packages/numpy/lib/nanfunctions.py:1216: RuntimeWarning: Mean of empty slice\n",
      "  return np.nanmean(a, axis, out=out, keepdims=keepdims)\n",
      "/Users/rohan/projects/tab-ocr/venv/lib/python3.8/site-packages/numpy/lib/nanfunctions.py:1216: RuntimeWarning: Mean of empty slice\n",
      "  return np.nanmean(a, axis, out=out, keepdims=keepdims)\n",
      "/Users/rohan/projects/tab-ocr/venv/lib/python3.8/site-packages/numpy/lib/nanfunctions.py:1216: RuntimeWarning: Mean of empty slice\n",
      "  return np.nanmean(a, axis, out=out, keepdims=keepdims)\n",
      "/Users/rohan/projects/tab-ocr/venv/lib/python3.8/site-packages/numpy/lib/nanfunctions.py:1216: RuntimeWarning: Mean of empty slice\n",
      "  return np.nanmean(a, axis, out=out, keepdims=keepdims)\n"
     ]
    },
    {
     "data": {
      "text/plain": [
       "'12619005000031'"
      ]
     },
     "execution_count": 41,
     "metadata": {},
     "output_type": "execute_result"
    }
   ],
   "source": [
    "def get_numeric_range(series: pd.Series):\n",
    "    return {\n",
    "        \"std\": series.std(),\n",
    "        \"mean\": series.mean(),\n",
    "        \"median\": series.median(),\n",
    "    }\n",
    "\n",
    "def get_brands(df: pd.DataFrame) -> dict:\n",
    "    groups = df.groupby(\"Manufacturer Name\")\n",
    "    brand_data = {}\n",
    "    for brand, brand_df in groups:\n",
    "        brand_name = brand.lower().strip()\n",
    "        brand_data[brand_name] = {\n",
    "            \"products\": set(brand_df['Product Name'].map(lambda name : name.lower().strip()).unique()),\n",
    "            \"net_weight\": get_numeric_range(brand_df['Net Weight']),\n",
    "            \"mrp\": get_numeric_range(brand_df['MRP']),\n",
    "        }\n",
    "        fssai = brand_df['Fssai Lic. No.'] .mode()\n",
    "        brand_data[brand_name]['fssai'] = fssai.iloc[0] if len(fssai) > 0 else None\n",
    "        \n",
    "\n",
    "    return brand_data\n",
    "\n",
    "\n",
    "brands = get_brands(df)\n",
    "list(brands.values())[0]['fssai']"
   ]
  }
 ],
 "metadata": {
  "kernelspec": {
   "display_name": "Python 3 (ipykernel)",
   "language": "python",
   "name": "python3"
  },
  "language_info": {
   "codemirror_mode": {
    "name": "ipython",
    "version": 3
   },
   "file_extension": ".py",
   "mimetype": "text/x-python",
   "name": "python",
   "nbconvert_exporter": "python",
   "pygments_lexer": "ipython3",
   "version": "3.8.9"
  }
 },
 "nbformat": 4,
 "nbformat_minor": 5
}
