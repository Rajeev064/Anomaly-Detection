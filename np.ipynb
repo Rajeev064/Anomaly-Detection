{
 "cells": [
  {
   "cell_type": "code",
   "execution_count": 1,
   "id": "53802ccd-3a54-4ad6-b63e-4481ba68566d",
   "metadata": {},
   "outputs": [
    {
     "name": "stderr",
     "output_type": "stream",
     "text": [
      "CUDA not available - defaulting to CPU. Note: This module is much faster with a GPU.\n",
      "Downloading detection model, please wait. This may take several minutes depending upon your network connection.\n"
     ]
    },
    {
     "name": "stdout",
     "output_type": "stream",
     "text": [
      "Progress: |██████████████████████████████████████████████████| 100.0% Complete\r"
     ]
    },
    {
     "name": "stderr",
     "output_type": "stream",
     "text": [
      "Downloading recognition model, please wait. This may take several minutes depending upon your network connection.\n"
     ]
    },
    {
     "name": "stdout",
     "output_type": "stream",
     "text": [
      "Progress: |██████████████████████████████████████████████████| 100.0% Complete\r"
     ]
    }
   ],
   "source": [
    "import easyocr\n",
    "reader = easyocr.Reader(['en']) "
   ]
  },
  {
   "cell_type": "code",
   "execution_count": 6,
   "id": "5de2a75c",
   "metadata": {},
   "outputs": [],
   "source": [
    "result = reader.readtext('files/label2.jpeg')"
   ]
  },
  {
   "cell_type": "code",
   "execution_count": 7,
   "id": "50d16184",
   "metadata": {},
   "outputs": [
    {
     "name": "stdout",
     "output_type": "stream",
     "text": [
      "Nutrition Facts\n",
      "Serving size\n",
      "1\n",
      "potato (148g/5.202)\n",
      "Amount per serving\n",
      "Calories\n",
      "110\n",
      "% Dally Value*\n",
      "Total Fat Og\n",
      "0%\n",
      "Saturated Fat Og\n",
      "0%\n",
      "Trans Fat Og\n",
      "Cholesterol\n",
      "0%\n",
      "Sodium\n",
      "0%\n",
      "Total Carbohydrate 26g\n",
      "9%\n",
      "Dietary Fiber 2g\n",
      "7%\n",
      "Total Sugars 1g\n",
      "Includes Og Added Sugars\n",
      "0%\n",
      "Protein 3g\n",
      "Vitamin D Omcg\n",
      "0%\n",
      "Calcium 2Omg\n",
      "2%\n",
      "Iron 1.Img\n",
      "6%\n",
      "Potassium 620mg\n",
      "15%\n",
      "Vitamin €C 27mg\n",
      "30%\n",
      "Vitamin Bs 0.2mg\n",
      "10%\n",
      "The % Daily Value (DV) tells you how much a nutrient in a\n",
      "sering of food contributes to & daily diet: 2,000 calories a\n",
      "day is used for\n",
      "general nutrition advice\n",
      "Omg\n",
      "Omg\n"
     ]
    }
   ],
   "source": [
    "for res in result:\n",
    "    print(res[1])"
   ]
  }
 ],
 "metadata": {
  "kernelspec": {
   "display_name": "Python 3 (ipykernel)",
   "language": "python",
   "name": "python3"
  },
  "language_info": {
   "codemirror_mode": {
    "name": "ipython",
    "version": 3
   },
   "file_extension": ".py",
   "mimetype": "text/x-python",
   "name": "python",
   "nbconvert_exporter": "python",
   "pygments_lexer": "ipython3",
   "version": "3.8.9"
  }
 },
 "nbformat": 4,
 "nbformat_minor": 5
}
